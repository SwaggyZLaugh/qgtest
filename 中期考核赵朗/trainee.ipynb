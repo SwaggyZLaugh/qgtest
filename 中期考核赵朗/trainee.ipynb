{
 "cells": [
  {
   "cell_type": "code",
   "execution_count": 1,
   "metadata": {},
   "outputs": [],
   "source": [
    "import pandas as pd\n",
    "import numpy as np\n",
    "import matplotlib.pyplot as plt\n",
    "import seaborn as sns\n",
    "import missingno as msno\n",
    "\n",
    "%matplotlib inline\n",
    "\n",
    "from IPython.core.interactiveshell import InteractiveShell\n",
    "InteractiveShell.ast_node_interactivity = \"all\"  # 一个cell显示多输出\n",
    "\n",
    "pd.set_option('display.max_rows', 100)  # 设置最大显示100行\n",
    "pd.set_option('display.max_columns', 100)  # 设置最大显示100列"
   ]
  },
  {
   "cell_type": "code",
   "execution_count": 2,
   "metadata": {},
   "outputs": [
    {
     "data": {
      "text/html": [
       "<div>\n",
       "<style scoped>\n",
       "    .dataframe tbody tr th:only-of-type {\n",
       "        vertical-align: middle;\n",
       "    }\n",
       "\n",
       "    .dataframe tbody tr th {\n",
       "        vertical-align: top;\n",
       "    }\n",
       "\n",
       "    .dataframe thead th {\n",
       "        text-align: right;\n",
       "    }\n",
       "</style>\n",
       "<table border=\"1\" class=\"dataframe\">\n",
       "  <thead>\n",
       "    <tr style=\"text-align: right;\">\n",
       "      <th></th>\n",
       "      <th>id_num</th>\n",
       "      <th>program_type</th>\n",
       "      <th>program_id</th>\n",
       "      <th>program_duration</th>\n",
       "      <th>test_id</th>\n",
       "      <th>test_type</th>\n",
       "      <th>difficulty_level</th>\n",
       "      <th>trainee_id</th>\n",
       "      <th>gender</th>\n",
       "      <th>education</th>\n",
       "      <th>city_tier</th>\n",
       "      <th>age</th>\n",
       "      <th>total_programs_enrolled</th>\n",
       "      <th>is_handicapped</th>\n",
       "      <th>trainee_engagement_rating</th>\n",
       "      <th>is_pass</th>\n",
       "    </tr>\n",
       "  </thead>\n",
       "  <tbody>\n",
       "    <tr>\n",
       "      <th>0</th>\n",
       "      <td>9389_150</td>\n",
       "      <td>Y</td>\n",
       "      <td>Y_1</td>\n",
       "      <td>136.0</td>\n",
       "      <td>150.0</td>\n",
       "      <td>offline</td>\n",
       "      <td>intermediate</td>\n",
       "      <td>9389.0</td>\n",
       "      <td>M</td>\n",
       "      <td>Matriculation</td>\n",
       "      <td>3.0</td>\n",
       "      <td>24.0</td>\n",
       "      <td>5.0</td>\n",
       "      <td>N</td>\n",
       "      <td>1.0</td>\n",
       "      <td>0</td>\n",
       "    </tr>\n",
       "    <tr>\n",
       "      <th>1</th>\n",
       "      <td>16523_44</td>\n",
       "      <td>T</td>\n",
       "      <td>T_1</td>\n",
       "      <td>131.0</td>\n",
       "      <td>44.0</td>\n",
       "      <td>offline</td>\n",
       "      <td>easy</td>\n",
       "      <td>16523.0</td>\n",
       "      <td>F</td>\n",
       "      <td>High School Diploma</td>\n",
       "      <td>4.0</td>\n",
       "      <td>26.0</td>\n",
       "      <td>2.0</td>\n",
       "      <td>N</td>\n",
       "      <td>3.0</td>\n",
       "      <td>1</td>\n",
       "    </tr>\n",
       "    <tr>\n",
       "      <th>2</th>\n",
       "      <td>13987_178</td>\n",
       "      <td>Z</td>\n",
       "      <td>Z_2</td>\n",
       "      <td>120.0</td>\n",
       "      <td>178.0</td>\n",
       "      <td>online</td>\n",
       "      <td>easy</td>\n",
       "      <td>13987.0</td>\n",
       "      <td>M</td>\n",
       "      <td>Matriculation</td>\n",
       "      <td>1.0</td>\n",
       "      <td>40.0</td>\n",
       "      <td>1.0</td>\n",
       "      <td>N</td>\n",
       "      <td>2.0</td>\n",
       "      <td>1</td>\n",
       "    </tr>\n",
       "    <tr>\n",
       "      <th>3</th>\n",
       "      <td>13158_32</td>\n",
       "      <td>T</td>\n",
       "      <td>T_2</td>\n",
       "      <td>117.0</td>\n",
       "      <td>32.0</td>\n",
       "      <td>offline</td>\n",
       "      <td>easy</td>\n",
       "      <td>13158.0</td>\n",
       "      <td>F</td>\n",
       "      <td>Matriculation</td>\n",
       "      <td>3.0</td>\n",
       "      <td>NaN</td>\n",
       "      <td>4.0</td>\n",
       "      <td>N</td>\n",
       "      <td>1.0</td>\n",
       "      <td>1</td>\n",
       "    </tr>\n",
       "    <tr>\n",
       "      <th>4</th>\n",
       "      <td>10591_84</td>\n",
       "      <td>V</td>\n",
       "      <td>V_3</td>\n",
       "      <td>131.0</td>\n",
       "      <td>84.0</td>\n",
       "      <td>offline</td>\n",
       "      <td>intermediate</td>\n",
       "      <td>10591.0</td>\n",
       "      <td>F</td>\n",
       "      <td>High School Diploma</td>\n",
       "      <td>1.0</td>\n",
       "      <td>42.0</td>\n",
       "      <td>2.0</td>\n",
       "      <td>N</td>\n",
       "      <td>4.0</td>\n",
       "      <td>1</td>\n",
       "    </tr>\n",
       "    <tr>\n",
       "      <th>5</th>\n",
       "      <td>12531_23</td>\n",
       "      <td>T</td>\n",
       "      <td>T_3</td>\n",
       "      <td>134.0</td>\n",
       "      <td>23.0</td>\n",
       "      <td>offline</td>\n",
       "      <td>intermediate</td>\n",
       "      <td>12531.0</td>\n",
       "      <td>F</td>\n",
       "      <td>High School Diploma</td>\n",
       "      <td>1.0</td>\n",
       "      <td>29.0</td>\n",
       "      <td>4.0</td>\n",
       "      <td>N</td>\n",
       "      <td>2.0</td>\n",
       "      <td>0</td>\n",
       "    </tr>\n",
       "    <tr>\n",
       "      <th>6</th>\n",
       "      <td>17874_144</td>\n",
       "      <td>Y</td>\n",
       "      <td>Y_2</td>\n",
       "      <td>120.0</td>\n",
       "      <td>144.0</td>\n",
       "      <td>online</td>\n",
       "      <td>easy</td>\n",
       "      <td>17874.0</td>\n",
       "      <td>M</td>\n",
       "      <td>Bachelors</td>\n",
       "      <td>2.0</td>\n",
       "      <td>48.0</td>\n",
       "      <td>3.0</td>\n",
       "      <td>N</td>\n",
       "      <td>3.0</td>\n",
       "      <td>1</td>\n",
       "    </tr>\n",
       "    <tr>\n",
       "      <th>7</th>\n",
       "      <td>8129_61</td>\n",
       "      <td>U</td>\n",
       "      <td>U_1</td>\n",
       "      <td>134.0</td>\n",
       "      <td>NaN</td>\n",
       "      <td>online</td>\n",
       "      <td>easy</td>\n",
       "      <td>8129.0</td>\n",
       "      <td>M</td>\n",
       "      <td>Matriculation</td>\n",
       "      <td>2.0</td>\n",
       "      <td>45.0</td>\n",
       "      <td>1.0</td>\n",
       "      <td>N</td>\n",
       "      <td>1.0</td>\n",
       "      <td>1</td>\n",
       "    </tr>\n",
       "    <tr>\n",
       "      <th>8</th>\n",
       "      <td>5652_57</td>\n",
       "      <td>U</td>\n",
       "      <td>U_1</td>\n",
       "      <td>134.0</td>\n",
       "      <td>57.0</td>\n",
       "      <td>offline</td>\n",
       "      <td>easy</td>\n",
       "      <td>5652.0</td>\n",
       "      <td>M</td>\n",
       "      <td>Matriculation</td>\n",
       "      <td>4.0</td>\n",
       "      <td>NaN</td>\n",
       "      <td>3.0</td>\n",
       "      <td>N</td>\n",
       "      <td>3.0</td>\n",
       "      <td>1</td>\n",
       "    </tr>\n",
       "    <tr>\n",
       "      <th>9</th>\n",
       "      <td>17019_153</td>\n",
       "      <td>Y</td>\n",
       "      <td>Y_1</td>\n",
       "      <td>136.0</td>\n",
       "      <td>153.0</td>\n",
       "      <td>offline</td>\n",
       "      <td>hard</td>\n",
       "      <td>17019.0</td>\n",
       "      <td>M</td>\n",
       "      <td>Bachelors</td>\n",
       "      <td>3.0</td>\n",
       "      <td>28.0</td>\n",
       "      <td>2.0</td>\n",
       "      <td>N</td>\n",
       "      <td>4.0</td>\n",
       "      <td>1</td>\n",
       "    </tr>\n",
       "  </tbody>\n",
       "</table>\n",
       "</div>"
      ],
      "text/plain": [
       "      id_num program_type program_id  program_duration  test_id test_type  \\\n",
       "0   9389_150            Y        Y_1             136.0    150.0   offline   \n",
       "1   16523_44            T        T_1             131.0     44.0   offline   \n",
       "2  13987_178            Z        Z_2             120.0    178.0    online   \n",
       "3   13158_32            T        T_2             117.0     32.0   offline   \n",
       "4   10591_84            V        V_3             131.0     84.0   offline   \n",
       "5   12531_23            T        T_3             134.0     23.0   offline   \n",
       "6  17874_144            Y        Y_2             120.0    144.0    online   \n",
       "7    8129_61            U        U_1             134.0      NaN    online   \n",
       "8    5652_57            U        U_1             134.0     57.0   offline   \n",
       "9  17019_153            Y        Y_1             136.0    153.0   offline   \n",
       "\n",
       "  difficulty_level  trainee_id gender            education  city_tier   age  \\\n",
       "0     intermediate      9389.0      M        Matriculation        3.0  24.0   \n",
       "1             easy     16523.0      F  High School Diploma        4.0  26.0   \n",
       "2             easy     13987.0      M        Matriculation        1.0  40.0   \n",
       "3             easy     13158.0      F        Matriculation        3.0   NaN   \n",
       "4     intermediate     10591.0      F  High School Diploma        1.0  42.0   \n",
       "5     intermediate     12531.0      F  High School Diploma        1.0  29.0   \n",
       "6             easy     17874.0      M            Bachelors        2.0  48.0   \n",
       "7             easy      8129.0      M        Matriculation        2.0  45.0   \n",
       "8             easy      5652.0      M        Matriculation        4.0   NaN   \n",
       "9             hard     17019.0      M            Bachelors        3.0  28.0   \n",
       "\n",
       "   total_programs_enrolled is_handicapped  trainee_engagement_rating  is_pass  \n",
       "0                      5.0              N                        1.0        0  \n",
       "1                      2.0              N                        3.0        1  \n",
       "2                      1.0              N                        2.0        1  \n",
       "3                      4.0              N                        1.0        1  \n",
       "4                      2.0              N                        4.0        1  \n",
       "5                      4.0              N                        2.0        0  \n",
       "6                      3.0              N                        3.0        1  \n",
       "7                      1.0              N                        1.0        1  \n",
       "8                      3.0              N                        3.0        1  \n",
       "9                      2.0              N                        4.0        1  "
      ]
     },
     "execution_count": 2,
     "metadata": {},
     "output_type": "execute_result"
    }
   ],
   "source": [
    "trainee_original = pd.read_csv(\"./train.csv\")\n",
    "trainee_original.head(10)"
   ]
  },
  {
   "cell_type": "code",
   "execution_count": 3,
   "metadata": {},
   "outputs": [
    {
     "data": {
      "text/plain": [
       "<AxesSubplot:>"
      ]
     },
     "execution_count": 3,
     "metadata": {},
     "output_type": "execute_result"
    },
    {
     "data": {
      "image/png": "[encoded data removed]",
      "text/plain": [
       "<Figure size 1080x360 with 2 Axes>"
      ]
     },
     "metadata": {
      "needs_background": "light"
     },
     "output_type": "display_data"
    }
   ],
   "source": [
    "msno.matrix(trainee_original, figsize=(15, 5))"
   ]
  },
  {
   "cell_type": "code",
   "execution_count": 4,
   "metadata": {},
   "outputs": [],
   "source": [
    "#将缺失值较少的数据直接删去\n",
    "trainee = trainee_original.dropna(axis=0,subset = [\"program_type\",\"program_id\",\"program_duration\",\"test_id\",\"test_type\",\"difficulty_level\",\"trainee_id\",\"gender\",\"education\",\"city_tier\",\"total_programs_enrolled\",\"is_handicapped\",\"trainee_engagement_rating\"])"
   ]
  },
  {
   "cell_type": "code",
   "execution_count": 5,
   "metadata": {},
   "outputs": [
    {
     "data": {
      "text/plain": [
       "<AxesSubplot:>"
      ]
     },
     "execution_count": 5,
     "metadata": {},
     "output_type": "execute_result"
    },
    {
     "data": {
      "image/png": "[encoded data removed]",
      "text/plain": [
       "<Figure size 1080x360 with 2 Axes>"
      ]
     },
     "metadata": {
      "needs_background": "light"
     },
     "output_type": "display_data"
    }
   ],
   "source": [
    "msno.matrix(trainee, figsize=(15, 5))"
   ]
  },
  {
   "cell_type": "code",
   "execution_count": 6,
   "metadata": {},
   "outputs": [
    {
     "data": {
      "text/html": [
       "<div>\n",
       "<style scoped>\n",
       "    .dataframe tbody tr th:only-of-type {\n",
       "        vertical-align: middle;\n",
       "    }\n",
       "\n",
       "    .dataframe tbody tr th {\n",
       "        vertical-align: top;\n",
       "    }\n",
       "\n",
       "    .dataframe thead th {\n",
       "        text-align: right;\n",
       "    }\n",
       "</style>\n",
       "<table border=\"1\" class=\"dataframe\">\n",
       "  <thead>\n",
       "    <tr style=\"text-align: right;\">\n",
       "      <th></th>\n",
       "      <th>id_num</th>\n",
       "      <th>program_type</th>\n",
       "      <th>program_id</th>\n",
       "      <th>program_duration</th>\n",
       "      <th>test_id</th>\n",
       "      <th>test_type</th>\n",
       "      <th>difficulty_level</th>\n",
       "      <th>trainee_id</th>\n",
       "      <th>gender</th>\n",
       "      <th>education</th>\n",
       "      <th>city_tier</th>\n",
       "      <th>age</th>\n",
       "      <th>total_programs_enrolled</th>\n",
       "      <th>is_handicapped</th>\n",
       "      <th>trainee_engagement_rating</th>\n",
       "      <th>is_pass</th>\n",
       "    </tr>\n",
       "  </thead>\n",
       "  <tbody>\n",
       "    <tr>\n",
       "      <th>0</th>\n",
       "      <td>9389_150</td>\n",
       "      <td>Y</td>\n",
       "      <td>Y_1</td>\n",
       "      <td>136.0</td>\n",
       "      <td>150.0</td>\n",
       "      <td>offline</td>\n",
       "      <td>intermediate</td>\n",
       "      <td>9389.0</td>\n",
       "      <td>M</td>\n",
       "      <td>Matriculation</td>\n",
       "      <td>3.0</td>\n",
       "      <td>24.0</td>\n",
       "      <td>5.0</td>\n",
       "      <td>N</td>\n",
       "      <td>1.0</td>\n",
       "      <td>0</td>\n",
       "    </tr>\n",
       "    <tr>\n",
       "      <th>1</th>\n",
       "      <td>16523_44</td>\n",
       "      <td>T</td>\n",
       "      <td>T_1</td>\n",
       "      <td>131.0</td>\n",
       "      <td>44.0</td>\n",
       "      <td>offline</td>\n",
       "      <td>easy</td>\n",
       "      <td>16523.0</td>\n",
       "      <td>F</td>\n",
       "      <td>High School Diploma</td>\n",
       "      <td>4.0</td>\n",
       "      <td>26.0</td>\n",
       "      <td>2.0</td>\n",
       "      <td>N</td>\n",
       "      <td>3.0</td>\n",
       "      <td>1</td>\n",
       "    </tr>\n",
       "    <tr>\n",
       "      <th>2</th>\n",
       "      <td>13987_178</td>\n",
       "      <td>Z</td>\n",
       "      <td>Z_2</td>\n",
       "      <td>120.0</td>\n",
       "      <td>178.0</td>\n",
       "      <td>online</td>\n",
       "      <td>easy</td>\n",
       "      <td>13987.0</td>\n",
       "      <td>M</td>\n",
       "      <td>Matriculation</td>\n",
       "      <td>1.0</td>\n",
       "      <td>40.0</td>\n",
       "      <td>1.0</td>\n",
       "      <td>N</td>\n",
       "      <td>2.0</td>\n",
       "      <td>1</td>\n",
       "    </tr>\n",
       "    <tr>\n",
       "      <th>3</th>\n",
       "      <td>13158_32</td>\n",
       "      <td>T</td>\n",
       "      <td>T_2</td>\n",
       "      <td>117.0</td>\n",
       "      <td>32.0</td>\n",
       "      <td>offline</td>\n",
       "      <td>easy</td>\n",
       "      <td>13158.0</td>\n",
       "      <td>F</td>\n",
       "      <td>Matriculation</td>\n",
       "      <td>3.0</td>\n",
       "      <td>NaN</td>\n",
       "      <td>4.0</td>\n",
       "      <td>N</td>\n",
       "      <td>1.0</td>\n",
       "      <td>1</td>\n",
       "    </tr>\n",
       "    <tr>\n",
       "      <th>4</th>\n",
       "      <td>10591_84</td>\n",
       "      <td>V</td>\n",
       "      <td>V_3</td>\n",
       "      <td>131.0</td>\n",
       "      <td>84.0</td>\n",
       "      <td>offline</td>\n",
       "      <td>intermediate</td>\n",
       "      <td>10591.0</td>\n",
       "      <td>F</td>\n",
       "      <td>High School Diploma</td>\n",
       "      <td>1.0</td>\n",
       "      <td>42.0</td>\n",
       "      <td>2.0</td>\n",
       "      <td>N</td>\n",
       "      <td>4.0</td>\n",
       "      <td>1</td>\n",
       "    </tr>\n",
       "    <tr>\n",
       "      <th>5</th>\n",
       "      <td>12531_23</td>\n",
       "      <td>T</td>\n",
       "      <td>T_3</td>\n",
       "      <td>134.0</td>\n",
       "      <td>23.0</td>\n",
       "      <td>offline</td>\n",
       "      <td>intermediate</td>\n",
       "      <td>12531.0</td>\n",
       "      <td>F</td>\n",
       "      <td>High School Diploma</td>\n",
       "      <td>1.0</td>\n",
       "      <td>29.0</td>\n",
       "      <td>4.0</td>\n",
       "      <td>N</td>\n",
       "      <td>2.0</td>\n",
       "      <td>0</td>\n",
       "    </tr>\n",
       "    <tr>\n",
       "      <th>6</th>\n",
       "      <td>17874_144</td>\n",
       "      <td>Y</td>\n",
       "      <td>Y_2</td>\n",
       "      <td>120.0</td>\n",
       "      <td>144.0</td>\n",
       "      <td>online</td>\n",
       "      <td>easy</td>\n",
       "      <td>17874.0</td>\n",
       "      <td>M</td>\n",
       "      <td>Bachelors</td>\n",
       "      <td>2.0</td>\n",
       "      <td>48.0</td>\n",
       "      <td>3.0</td>\n",
       "      <td>N</td>\n",
       "      <td>3.0</td>\n",
       "      <td>1</td>\n",
       "    </tr>\n",
       "    <tr>\n",
       "      <th>8</th>\n",
       "      <td>5652_57</td>\n",
       "      <td>U</td>\n",
       "      <td>U_1</td>\n",
       "      <td>134.0</td>\n",
       "      <td>57.0</td>\n",
       "      <td>offline</td>\n",
       "      <td>easy</td>\n",
       "      <td>5652.0</td>\n",
       "      <td>M</td>\n",
       "      <td>Matriculation</td>\n",
       "      <td>4.0</td>\n",
       "      <td>NaN</td>\n",
       "      <td>3.0</td>\n",
       "      <td>N</td>\n",
       "      <td>3.0</td>\n",
       "      <td>1</td>\n",
       "    </tr>\n",
       "    <tr>\n",
       "      <th>9</th>\n",
       "      <td>17019_153</td>\n",
       "      <td>Y</td>\n",
       "      <td>Y_1</td>\n",
       "      <td>136.0</td>\n",
       "      <td>153.0</td>\n",
       "      <td>offline</td>\n",
       "      <td>hard</td>\n",
       "      <td>17019.0</td>\n",
       "      <td>M</td>\n",
       "      <td>Bachelors</td>\n",
       "      <td>3.0</td>\n",
       "      <td>28.0</td>\n",
       "      <td>2.0</td>\n",
       "      <td>N</td>\n",
       "      <td>4.0</td>\n",
       "      <td>1</td>\n",
       "    </tr>\n",
       "    <tr>\n",
       "      <th>10</th>\n",
       "      <td>9932_80</td>\n",
       "      <td>V</td>\n",
       "      <td>V_3</td>\n",
       "      <td>131.0</td>\n",
       "      <td>80.0</td>\n",
       "      <td>offline</td>\n",
       "      <td>easy</td>\n",
       "      <td>9932.0</td>\n",
       "      <td>F</td>\n",
       "      <td>High School Diploma</td>\n",
       "      <td>3.0</td>\n",
       "      <td>NaN</td>\n",
       "      <td>2.0</td>\n",
       "      <td>N</td>\n",
       "      <td>4.0</td>\n",
       "      <td>1</td>\n",
       "    </tr>\n",
       "  </tbody>\n",
       "</table>\n",
       "</div>"
      ],
      "text/plain": [
       "       id_num program_type program_id  program_duration  test_id test_type  \\\n",
       "0    9389_150            Y        Y_1             136.0    150.0   offline   \n",
       "1    16523_44            T        T_1             131.0     44.0   offline   \n",
       "2   13987_178            Z        Z_2             120.0    178.0    online   \n",
       "3    13158_32            T        T_2             117.0     32.0   offline   \n",
       "4    10591_84            V        V_3             131.0     84.0   offline   \n",
       "5    12531_23            T        T_3             134.0     23.0   offline   \n",
       "6   17874_144            Y        Y_2             120.0    144.0    online   \n",
       "8     5652_57            U        U_1             134.0     57.0   offline   \n",
       "9   17019_153            Y        Y_1             136.0    153.0   offline   \n",
       "10    9932_80            V        V_3             131.0     80.0   offline   \n",
       "\n",
       "   difficulty_level  trainee_id gender            education  city_tier   age  \\\n",
       "0      intermediate      9389.0      M        Matriculation        3.0  24.0   \n",
       "1              easy     16523.0      F  High School Diploma        4.0  26.0   \n",
       "2              easy     13987.0      M        Matriculation        1.0  40.0   \n",
       "3              easy     13158.0      F        Matriculation        3.0   NaN   \n",
       "4      intermediate     10591.0      F  High School Diploma        1.0  42.0   \n",
       "5      intermediate     12531.0      F  High School Diploma        1.0  29.0   \n",
       "6              easy     17874.0      M            Bachelors        2.0  48.0   \n",
       "8              easy      5652.0      M        Matriculation        4.0   NaN   \n",
       "9              hard     17019.0      M            Bachelors        3.0  28.0   \n",
       "10             easy      9932.0      F  High School Diploma        3.0   NaN   \n",
       "\n",
       "    total_programs_enrolled is_handicapped  trainee_engagement_rating  is_pass  \n",
       "0                       5.0              N                        1.0        0  \n",
       "1                       2.0              N                        3.0        1  \n",
       "2                       1.0              N                        2.0        1  \n",
       "3                       4.0              N                        1.0        1  \n",
       "4                       2.0              N                        4.0        1  \n",
       "5                       4.0              N                        2.0        0  \n",
       "6                       3.0              N                        3.0        1  \n",
       "8                       3.0              N                        3.0        1  \n",
       "9                       2.0              N                        4.0        1  \n",
       "10                      2.0              N                        4.0        1  "
      ]
     },
     "execution_count": 6,
     "metadata": {},
     "output_type": "execute_result"
    }
   ],
   "source": [
    "trainee.head(10)"
   ]
  },
  {
   "cell_type": "code",
   "execution_count": 7,
   "metadata": {},
   "outputs": [
    {
     "data": {
      "text/html": [
       "<div>\n",
       "<style scoped>\n",
       "    .dataframe tbody tr th:only-of-type {\n",
       "        vertical-align: middle;\n",
       "    }\n",
       "\n",
       "    .dataframe tbody tr th {\n",
       "        vertical-align: top;\n",
       "    }\n",
       "\n",
       "    .dataframe thead th {\n",
       "        text-align: right;\n",
       "    }\n",
       "</style>\n",
       "<table border=\"1\" class=\"dataframe\">\n",
       "  <thead>\n",
       "    <tr style=\"text-align: right;\">\n",
       "      <th></th>\n",
       "      <th>program_duration</th>\n",
       "      <th>test_id</th>\n",
       "      <th>trainee_id</th>\n",
       "      <th>city_tier</th>\n",
       "      <th>age</th>\n",
       "      <th>total_programs_enrolled</th>\n",
       "      <th>trainee_engagement_rating</th>\n",
       "      <th>is_pass</th>\n",
       "    </tr>\n",
       "  </thead>\n",
       "  <tbody>\n",
       "    <tr>\n",
       "      <th>count</th>\n",
       "      <td>41468.000000</td>\n",
       "      <td>41468.000000</td>\n",
       "      <td>41468.000000</td>\n",
       "      <td>41468.000000</td>\n",
       "      <td>25427.000000</td>\n",
       "      <td>41468.000000</td>\n",
       "      <td>41468.000000</td>\n",
       "      <td>41468.000000</td>\n",
       "    </tr>\n",
       "    <tr>\n",
       "      <th>mean</th>\n",
       "      <td>128.212405</td>\n",
       "      <td>91.400719</td>\n",
       "      <td>9877.189278</td>\n",
       "      <td>2.249687</td>\n",
       "      <td>36.540449</td>\n",
       "      <td>2.585126</td>\n",
       "      <td>2.397535</td>\n",
       "      <td>0.696658</td>\n",
       "    </tr>\n",
       "    <tr>\n",
       "      <th>std</th>\n",
       "      <td>6.889023</td>\n",
       "      <td>51.231736</td>\n",
       "      <td>5720.148060</td>\n",
       "      <td>1.011196</td>\n",
       "      <td>9.037045</td>\n",
       "      <td>1.241136</td>\n",
       "      <td>1.324701</td>\n",
       "      <td>0.459707</td>\n",
       "    </tr>\n",
       "    <tr>\n",
       "      <th>min</th>\n",
       "      <td>117.000000</td>\n",
       "      <td>0.000000</td>\n",
       "      <td>1.000000</td>\n",
       "      <td>1.000000</td>\n",
       "      <td>17.000000</td>\n",
       "      <td>1.000000</td>\n",
       "      <td>1.000000</td>\n",
       "      <td>0.000000</td>\n",
       "    </tr>\n",
       "    <tr>\n",
       "      <th>25%</th>\n",
       "      <td>121.000000</td>\n",
       "      <td>45.000000</td>\n",
       "      <td>5065.000000</td>\n",
       "      <td>1.000000</td>\n",
       "      <td>28.000000</td>\n",
       "      <td>2.000000</td>\n",
       "      <td>1.000000</td>\n",
       "      <td>0.000000</td>\n",
       "    </tr>\n",
       "    <tr>\n",
       "      <th>50%</th>\n",
       "      <td>131.000000</td>\n",
       "      <td>91.000000</td>\n",
       "      <td>9683.000000</td>\n",
       "      <td>2.000000</td>\n",
       "      <td>40.000000</td>\n",
       "      <td>2.000000</td>\n",
       "      <td>2.000000</td>\n",
       "      <td>1.000000</td>\n",
       "    </tr>\n",
       "    <tr>\n",
       "      <th>75%</th>\n",
       "      <td>134.000000</td>\n",
       "      <td>135.000000</td>\n",
       "      <td>14637.750000</td>\n",
       "      <td>3.000000</td>\n",
       "      <td>45.000000</td>\n",
       "      <td>3.000000</td>\n",
       "      <td>4.000000</td>\n",
       "      <td>1.000000</td>\n",
       "    </tr>\n",
       "    <tr>\n",
       "      <th>max</th>\n",
       "      <td>136.000000</td>\n",
       "      <td>187.000000</td>\n",
       "      <td>20097.000000</td>\n",
       "      <td>4.000000</td>\n",
       "      <td>63.000000</td>\n",
       "      <td>14.000000</td>\n",
       "      <td>5.000000</td>\n",
       "      <td>1.000000</td>\n",
       "    </tr>\n",
       "  </tbody>\n",
       "</table>\n",
       "</div>"
      ],
      "text/plain": [
       "       program_duration       test_id    trainee_id     city_tier  \\\n",
       "count      41468.000000  41468.000000  41468.000000  41468.000000   \n",
       "mean         128.212405     91.400719   9877.189278      2.249687   \n",
       "std            6.889023     51.231736   5720.148060      1.011196   \n",
       "min          117.000000      0.000000      1.000000      1.000000   \n",
       "25%          121.000000     45.000000   5065.000000      1.000000   \n",
       "50%          131.000000     91.000000   9683.000000      2.000000   \n",
       "75%          134.000000    135.000000  14637.750000      3.000000   \n",
       "max          136.000000    187.000000  20097.000000      4.000000   \n",
       "\n",
       "                age  total_programs_enrolled  trainee_engagement_rating  \\\n",
       "count  25427.000000             41468.000000               41468.000000   \n",
       "mean      36.540449                 2.585126                   2.397535   \n",
       "std        9.037045                 1.241136                   1.324701   \n",
       "min       17.000000                 1.000000                   1.000000   \n",
       "25%       28.000000                 2.000000                   1.000000   \n",
       "50%       40.000000                 2.000000                   2.000000   \n",
       "75%       45.000000                 3.000000                   4.000000   \n",
       "max       63.000000                14.000000                   5.000000   \n",
       "\n",
       "            is_pass  \n",
       "count  41468.000000  \n",
       "mean       0.696658  \n",
       "std        0.459707  \n",
       "min        0.000000  \n",
       "25%        0.000000  \n",
       "50%        1.000000  \n",
       "75%        1.000000  \n",
       "max        1.000000  "
      ]
     },
     "execution_count": 7,
     "metadata": {},
     "output_type": "execute_result"
    },
    {
     "name": "stdout",
     "output_type": "stream",
     "text": [
      "<class 'pandas.core.frame.DataFrame'>\n",
      "Int64Index: 41468 entries, 0 to 49996\n",
      "Data columns (total 16 columns):\n",
      " #   Column                     Non-Null Count  Dtype  \n",
      "---  ------                     --------------  -----  \n",
      " 0   id_num                     41468 non-null  object \n",
      " 1   program_type               41468 non-null  object \n",
      " 2   program_id                 41468 non-null  object \n",
      " 3   program_duration           41468 non-null  float64\n",
      " 4   test_id                    41468 non-null  float64\n",
      " 5   test_type                  41468 non-null  object \n",
      " 6   difficulty_level           41468 non-null  object \n",
      " 7   trainee_id                 41468 non-null  float64\n",
      " 8   gender                     41468 non-null  object \n",
      " 9   education                  41468 non-null  object \n",
      " 10  city_tier                  41468 non-null  float64\n",
      " 11  age                        25427 non-null  float64\n",
      " 12  total_programs_enrolled    41468 non-null  float64\n",
      " 13  is_handicapped             41468 non-null  object \n",
      " 14  trainee_engagement_rating  41468 non-null  float64\n",
      " 15  is_pass                    41468 non-null  int64  \n",
      "dtypes: float64(7), int64(1), object(8)\n",
      "memory usage: 5.4+ MB\n"
     ]
    }
   ],
   "source": [
    "trainee.describe() # 按列统计特征\n",
    "trainee.info()"
   ]
  },
  {
   "cell_type": "code",
   "execution_count": 8,
   "metadata": {},
   "outputs": [
    {
     "data": {
      "text/plain": [
       "\"\\nY = sum(trainee['age'] <= trainee['age'].mean())             #Y:younger than age's mean\\nO = sum(trainee['age'] > trainee['age'].mean())              #O:older than age's mean\\nYPass = 0                                                    #Y:younger than age's mean and pass\\nOPass = 0                                                    #Y:older than age's mean and pass\\nfor(x,y) in zip(trainee['age'],trainee['is_pass']):\\n    if x<=trainee['age'].mean() and y==1:\\n        YPass+=1\\n    elif x>trainee['age'].mean() and y==1:\\n        OPass+=1\\nY,O\\nYPass,OPass\\nYPass/Y,OPass/O\\ntrainee['age'].mean()\\n\""
      ]
     },
     "execution_count": 8,
     "metadata": {},
     "output_type": "execute_result"
    }
   ],
   "source": [
    "'''\n",
    "Y = sum(trainee['age'] <= trainee['age'].mean())             #Y:younger than age's mean\n",
    "O = sum(trainee['age'] > trainee['age'].mean())              #O:older than age's mean\n",
    "YPass = 0                                                    #Y:younger than age's mean and pass\n",
    "OPass = 0                                                    #Y:older than age's mean and pass\n",
    "for(x,y) in zip(trainee['age'],trainee['is_pass']):\n",
    "    if x<=trainee['age'].mean() and y==1:\n",
    "        YPass+=1\n",
    "    elif x>trainee['age'].mean() and y==1:\n",
    "        OPass+=1\n",
    "Y,O\n",
    "YPass,OPass\n",
    "YPass/Y,OPass/O\n",
    "trainee['age'].mean()\n",
    "'''\n",
    "\n",
    "#通过计算发现年龄大于平均值的人数为13059，通过率为73%\n",
    "#通过计算发现年龄小于平均值的通过率为12368，通过率为66%\n",
    "#两者相差不大，因此可以用平均值填充缺失值"
   ]
  },
  {
   "cell_type": "code",
   "execution_count": 9,
   "metadata": {},
   "outputs": [
    {
     "name": "stderr",
     "output_type": "stream",
     "text": [
      "<ipython-input-9-92918e4772ce>:1: SettingWithCopyWarning: \n",
      "A value is trying to be set on a copy of a slice from a DataFrame.\n",
      "Try using .loc[row_indexer,col_indexer] = value instead\n",
      "\n",
      "See the caveats in the documentation: https://pandas.pydata.org/pandas-docs/stable/user_guide/indexing.html#returning-a-view-versus-a-copy\n",
      "  trainee['age'] = trainee['age'].fillna(trainee['age'].mean())\n"
     ]
    },
    {
     "data": {
      "text/plain": [
       "0        False\n",
       "1        False\n",
       "2        False\n",
       "3        False\n",
       "4        False\n",
       "         ...  \n",
       "49991    False\n",
       "49992    False\n",
       "49993    False\n",
       "49995    False\n",
       "49996    False\n",
       "Name: age, Length: 41468, dtype: bool"
      ]
     },
     "execution_count": 9,
     "metadata": {},
     "output_type": "execute_result"
    }
   ],
   "source": [
    "trainee['age'] = trainee['age'].fillna(trainee['age'].mean())\n",
    "trainee['age'].isnull()"
   ]
  },
  {
   "cell_type": "code",
   "execution_count": 10,
   "metadata": {},
   "outputs": [
    {
     "name": "stderr",
     "output_type": "stream",
     "text": [
      "C:\\Users\\13360\\anaconda3\\lib\\site-packages\\pandas\\core\\indexing.py:1765: SettingWithCopyWarning: \n",
      "A value is trying to be set on a copy of a slice from a DataFrame.\n",
      "Try using .loc[row_indexer,col_indexer] = value instead\n",
      "\n",
      "See the caveats in the documentation: https://pandas.pydata.org/pandas-docs/stable/user_guide/indexing.html#returning-a-view-versus-a-copy\n",
      "  isetter(loc, value)\n"
     ]
    }
   ],
   "source": [
    "#program_type, program_id, program_duration 为一组数据，根据不同program_id通过率为其赋值\n",
    "trainee.loc[trainee['program_id'] == 'Y_1', \"program_id\"] = 8        #通过率:0.78\n",
    "trainee.loc[trainee['program_id'] == 'Y_2', \"program_id\"] = 7        #通过率:0.74\n",
    "trainee.loc[trainee['program_id'] == 'Y_3', \"program_id\"] = 8        #通过率:0.75\n",
    "trainee.loc[trainee['program_id'] == 'Y_4', \"program_id\"] = 8        #通过率:0.77\n",
    "\n",
    "trainee.loc[trainee['program_id'] == 'T_1', \"program_id\"] = 5        #通过率:0.51\n",
    "trainee.loc[trainee['program_id'] == 'T_2', \"program_id\"] = 7        #通过率:0.74\n",
    "trainee.loc[trainee['program_id'] == 'T_3', \"program_id\"] = 7        #通过率:0.72\n",
    "trainee.loc[trainee['program_id'] == 'T_4', \"program_id\"] = 7        #通过率:0.74\n",
    "\n",
    "trainee.loc[trainee['program_id'] == 'U_1', \"program_id\"] = 6        #通过率:0.64\n",
    "trainee.loc[trainee['program_id'] == 'U_2', \"program_id\"] = 6        #通过率:0.60\n",
    "\n",
    "trainee.loc[trainee['program_id'] == 'V_1', \"program_id\"] = 6        #通过率:0.60\n",
    "trainee.loc[trainee['program_id'] == 'V_2', \"program_id\"] = 6        #通过率:0.56\n",
    "trainee.loc[trainee['program_id'] == 'V_3', \"program_id\"] = 6        #通过率:0.56\n",
    "trainee.loc[trainee['program_id'] == 'V_4', \"program_id\"] = 6        #通过率:0.58\n",
    "\n",
    "trainee.loc[trainee['program_id'] == 'Z_1', \"program_id\"] = 7        #通过率:0.71\n",
    "trainee.loc[trainee['program_id'] == 'Z_2', \"program_id\"] = 7        #通过率:0.72\n",
    "trainee.loc[trainee['program_id'] == 'Z_3', \"program_id\"] = 7        #通过率:0.73\n",
    "\n",
    "trainee.loc[trainee['program_id'] == 'X_1', \"program_id\"] = 9        #通过率:0.85\n",
    "trainee.loc[trainee['program_id'] == 'X_2', \"program_id\"] = 8        #通过率:0.77\n",
    "trainee.loc[trainee['program_id'] == 'X_3', \"program_id\"] = 8        #通过率:0.81\n",
    "\n",
    "trainee.loc[trainee['program_id'] == 'S_1', \"program_id\"] = 5        #通过率:0.52\n",
    "trainee.loc[trainee['program_id'] == 'S_2', \"program_id\"] = 6        #通过率:0.59"
   ]
  },
  {
   "cell_type": "code",
   "execution_count": 11,
   "metadata": {},
   "outputs": [
    {
     "data": {
      "text/plain": [
       "\"\\noffPass = 0\\nonPass = 0\\nfor (x,y) in zip(trainee['test_type'],trainee['is_pass']):\\n    if x=='offline' and y==1:\\n        offPass+=1\\n    elif x=='online' and y==1:\\n        onPass+=1\\noffPass/sum(trainee['test_type'] == 'offline'),onPass/sum(trainee['test_type'] == 'online')\\n\""
      ]
     },
     "execution_count": 11,
     "metadata": {},
     "output_type": "execute_result"
    }
   ],
   "source": [
    "'''\n",
    "offPass = 0\n",
    "onPass = 0\n",
    "for (x,y) in zip(trainee['test_type'],trainee['is_pass']):\n",
    "    if x=='offline' and y==1:\n",
    "        offPass+=1\n",
    "    elif x=='online' and y==1:\n",
    "        onPass+=1\n",
    "offPass/sum(trainee['test_type'] == 'offline'),onPass/sum(trainee['test_type'] == 'online')\n",
    "'''\n",
    "#通过计算得到online and pass 的概率为0.78，offline and pass 的概率为0.63"
   ]
  },
  {
   "cell_type": "code",
   "execution_count": 12,
   "metadata": {},
   "outputs": [],
   "source": [
    "trainee.loc[trainee['test_type'] == 'offline', \"test_type\"] = 6\n",
    "trainee.loc[trainee['test_type'] == 'online', \"test_type\"] = 8"
   ]
  },
  {
   "cell_type": "code",
   "execution_count": 13,
   "metadata": {},
   "outputs": [
    {
     "data": {
      "text/plain": [
       "\"\\nePass = 0\\niPass = 0\\nhPass = 0\\nvPass = 0\\nfor (x,y) in zip(trainee['difficulty_level'],trainee['is_pass']):\\n    if x=='easy' and y==1:\\n        ePass+=1\\n    elif x=='intermediate' and y==1:\\n        iPass+=1\\n    elif x=='hard' and y==1:\\n        hPass+=1\\n    elif x=='vary hard' and y==1:\\n        vPass+=1\\nePass/sum(trainee['difficulty_level'] == 'easy')            0.73\\niPass/sum(trainee['difficulty_level'] == 'intermediate')    0.65\\nhPass/sum(trainee['difficulty_level'] == 'hard')            0.67\\nvPass/sum(trainee['difficulty_level'] == 'vary hard')      0.43\\n\""
      ]
     },
     "execution_count": 13,
     "metadata": {},
     "output_type": "execute_result"
    }
   ],
   "source": [
    "'''\n",
    "ePass = 0\n",
    "iPass = 0\n",
    "hPass = 0\n",
    "vPass = 0\n",
    "for (x,y) in zip(trainee['difficulty_level'],trainee['is_pass']):\n",
    "    if x=='easy' and y==1:\n",
    "        ePass+=1\n",
    "    elif x=='intermediate' and y==1:\n",
    "        iPass+=1\n",
    "    elif x=='hard' and y==1:\n",
    "        hPass+=1\n",
    "    elif x=='vary hard' and y==1:\n",
    "        vPass+=1\n",
    "ePass/sum(trainee['difficulty_level'] == 'easy')            0.73\n",
    "iPass/sum(trainee['difficulty_level'] == 'intermediate')    0.65\n",
    "hPass/sum(trainee['difficulty_level'] == 'hard')            0.67\n",
    "vPass/sum(trainee['difficulty_level'] == 'vary hard')      0.43\n",
    "'''"
   ]
  },
  {
   "cell_type": "code",
   "execution_count": 14,
   "metadata": {},
   "outputs": [],
   "source": [
    "trainee.loc[trainee['difficulty_level'] == 'easy', \"difficulty_level\"] = 7\n",
    "trainee.loc[trainee['difficulty_level'] == 'intermediate', \"difficulty_level\"] = 7\n",
    "trainee.loc[trainee['difficulty_level'] == 'hard', \"difficulty_level\"] = 7\n",
    "trainee.loc[trainee['difficulty_level'] == 'vary hard', \"difficulty_level\"] = 4"
   ]
  },
  {
   "cell_type": "code",
   "execution_count": 15,
   "metadata": {},
   "outputs": [
    {
     "data": {
      "text/plain": [
       "\"\\nHPass = 0\\nMatPass = 0\\nBPass = 0\\nMasPass = 0\\nNPass = 0\\nfor (x,y) in zip(trainee['education'],trainee['is_pass']):\\n    if x=='High School Diploma' and y==1:\\n        HPass+=1\\n    elif x=='Matriculation' and y==1:\\n        MatPass+=1\\n    elif x=='Bachelors' and y==1:\\n        BPass+=1\\n    elif x=='Masters' and y==1:\\n        MasPass+=1\\n    elif x=='No Qualification' and y==1:\\n        NPass+=1\\nHPass/sum(trainee['education'] == 'High School Diploma')     0.71\\nMatPass/sum(trainee['education'] == 'Matriculation')         0.64\\nBPass/sum(trainee['education'] == 'Bachelors')               0.74\\nMasPass/sum(trainee['education'] == 'Masters')               0.86\\nNPass/sum(trainee['education'] == 'No Qualification')        0.58\\n\""
      ]
     },
     "execution_count": 15,
     "metadata": {},
     "output_type": "execute_result"
    }
   ],
   "source": [
    "'''\n",
    "HPass = 0\n",
    "MatPass = 0\n",
    "BPass = 0\n",
    "MasPass = 0\n",
    "NPass = 0\n",
    "for (x,y) in zip(trainee['education'],trainee['is_pass']):\n",
    "    if x=='High School Diploma' and y==1:\n",
    "        HPass+=1\n",
    "    elif x=='Matriculation' and y==1:\n",
    "        MatPass+=1\n",
    "    elif x=='Bachelors' and y==1:\n",
    "        BPass+=1\n",
    "    elif x=='Masters' and y==1:\n",
    "        MasPass+=1\n",
    "    elif x=='No Qualification' and y==1:\n",
    "        NPass+=1\n",
    "HPass/sum(trainee['education'] == 'High School Diploma')     0.71\n",
    "MatPass/sum(trainee['education'] == 'Matriculation')         0.64\n",
    "BPass/sum(trainee['education'] == 'Bachelors')               0.74\n",
    "MasPass/sum(trainee['education'] == 'Masters')               0.86\n",
    "NPass/sum(trainee['education'] == 'No Qualification')        0.58\n",
    "'''"
   ]
  },
  {
   "cell_type": "code",
   "execution_count": 16,
   "metadata": {},
   "outputs": [],
   "source": [
    "trainee.loc[trainee['education'] == 'High School Diploma', \"education\"] = 7\n",
    "trainee.loc[trainee['education'] == 'Matriculation', \"education\"] = 6\n",
    "trainee.loc[trainee['education'] == 'Bachelors', \"education\"] = 7\n",
    "trainee.loc[trainee['education'] == 'Masters', \"education\"] = 9\n",
    "trainee.loc[trainee['education'] == 'No Qualification', \"education\"] = 6"
   ]
  },
  {
   "cell_type": "code",
   "execution_count": 17,
   "metadata": {},
   "outputs": [],
   "source": [
    "trainee.loc[trainee['is_handicapped'] == 'Y', \"is_handicapped\"] = 0\n",
    "trainee.loc[trainee['is_handicapped'] == 'N', \"is_handicapped\"] = 1"
   ]
  },
  {
   "cell_type": "code",
   "execution_count": 18,
   "metadata": {},
   "outputs": [
    {
     "data": {
      "text/plain": [
       "LinearRegression()"
      ]
     },
     "execution_count": 18,
     "metadata": {},
     "output_type": "execute_result"
    },
    {
     "name": "stdout",
     "output_type": "stream",
     "text": [
      "测试数据的总数量： 41468\n",
      "正确的数量： 29429\n",
      "准确率为： 0.7096797530626024\n"
     ]
    }
   ],
   "source": [
    "from sklearn.linear_model import LinearRegression # 导入线性回归的类，采用二分类进行分类预测\n",
    "from sklearn.model_selection import KFold # K折交叉验证，取平均，调参\n",
    "\n",
    "predictors = [\"age\",\"program_id\",\"test_type\",\"difficulty_level\",\"education\",\"is_handicapped\",\"city_tier\",\"total_programs_enrolled\",\"trainee_engagement_rating\"] # 输入机器学习算法的特征\n",
    "LiR = LinearRegression() # 初始化线性回归类\n",
    "kf = KFold() # KFold类实例化\n",
    "\n",
    "predictions = []\n",
    "\n",
    "LiR.fit(trainee[predictors], trainee[\"is_pass\"]) # 训练模型\n",
    "predictions.append(LiR.predict(trainee[predictors]))\n",
    "\n",
    "predictions = np.concatenate(predictions, axis=0) # 转换成数组，才能比较大小\n",
    "\n",
    "# 使用线性回归得到的结果是在区间[0,1]上的某个值，需要将该值转换成0或1\n",
    "predictions[predictions >= 0.5] = 1\n",
    "predictions[predictions < 0.5] = 0\n",
    "\n",
    "print(\"测试数据的总数量：\", len(predictions))\n",
    "print(\"正确的数量：\", sum(predictions == trainee[\"is_pass\"]))\n",
    "accuracy = sum(predictions == trainee[\"is_pass\"]) / len(predictions)\n",
    "print(\"准确率为：\", accuracy)"
   ]
  },
  {
   "cell_type": "code",
   "execution_count": 19,
   "metadata": {},
   "outputs": [
    {
     "name": "stdout",
     "output_type": "stream",
     "text": [
      "准确率为： 0.7118500363961332\n"
     ]
    }
   ],
   "source": [
    "from sklearn import model_selection\n",
    "from sklearn.linear_model import LogisticRegression\n",
    "\n",
    "LoR = LogisticRegression(random_state=1, solver='liblinear') # 初始化逻辑回归类\n",
    "\n",
    "# 逻辑回归交叉验证\n",
    "score = model_selection.cross_val_score(LoR, trainee[predictors], trainee[\"is_pass\"], cv=3)\n",
    "print(\"准确率为：\", score.mean())"
   ]
  },
  {
   "cell_type": "code",
   "execution_count": 20,
   "metadata": {},
   "outputs": [
    {
     "data": {
      "text/plain": [
       "GradientBoostingClassifier(max_depth=18, n_estimators=50, random_state=1)"
      ]
     },
     "execution_count": 20,
     "metadata": {},
     "output_type": "execute_result"
    },
    {
     "name": "stdout",
     "output_type": "stream",
     "text": [
      "测试数据的总数量： 41468\n",
      "正确的数量： 33579\n",
      "准确率为： 0.8097569209993247\n"
     ]
    }
   ],
   "source": [
    "from sklearn.ensemble import GradientBoostingClassifier\n",
    "\n",
    "gbc = GradientBoostingClassifier(random_state=1, n_estimators=50, max_depth=18)\n",
    "\n",
    "predictions = []\n",
    "\n",
    "gbc.fit(trainee[predictors], trainee[\"is_pass\"])\n",
    "predictions.append(gbc.predict(trainee[predictors]))\n",
    "\n",
    "predictions = np.concatenate(predictions, axis=0) # 转换成数组，才能比较大小\n",
    "\n",
    "# 使用线性回归得到的结果是在区间[0,1]上的某个值，需要将该值转换成0或1\n",
    "predictions[predictions >= 0.5] = 1\n",
    "predictions[predictions < 0.5] = 0\n",
    "\n",
    "print(\"测试数据的总数量：\", len(predictions))\n",
    "print(\"正确的数量：\", sum(predictions == trainee[\"is_pass\"]))\n",
    "accuracy = sum(predictions == trainee[\"is_pass\"]) / len(predictions)\n",
    "print(\"准确率为：\", accuracy)"
   ]
  },
  {
   "cell_type": "code",
   "execution_count": 21,
   "metadata": {},
   "outputs": [
    {
     "data": {
      "text/plain": [
       "SelectKBest(k=5)"
      ]
     },
     "execution_count": 21,
     "metadata": {},
     "output_type": "execute_result"
    },
    {
     "name": "stderr",
     "output_type": "stream",
     "text": [
      "<ipython-input-21-3f694f786002>:9: RuntimeWarning: divide by zero encountered in log10\n",
      "  scores = -np.log10(selector.pvalues_)\n"
     ]
    },
    {
     "data": {
      "text/plain": [
       "<BarContainer object of 9 artists>"
      ]
     },
     "execution_count": 21,
     "metadata": {},
     "output_type": "execute_result"
    },
    {
     "data": {
      "text/plain": [
       "([<matplotlib.axis.XTick at 0x2243ff48e20>,\n",
       "  <matplotlib.axis.XTick at 0x2243ff48df0>,\n",
       "  <matplotlib.axis.XTick at 0x2243ff4e970>,\n",
       "  <matplotlib.axis.XTick at 0x2244043c040>,\n",
       "  <matplotlib.axis.XTick at 0x2244043c550>,\n",
       "  <matplotlib.axis.XTick at 0x2244043ca60>,\n",
       "  <matplotlib.axis.XTick at 0x2244043cf70>,\n",
       "  <matplotlib.axis.XTick at 0x224404424c0>,\n",
       "  <matplotlib.axis.XTick at 0x22440442a00>],\n",
       " [Text(0, 0, 'age'),\n",
       "  Text(1, 0, 'program_id'),\n",
       "  Text(2, 0, 'test_type'),\n",
       "  Text(3, 0, 'difficulty_level'),\n",
       "  Text(4, 0, 'education'),\n",
       "  Text(5, 0, 'is_handicapped'),\n",
       "  Text(6, 0, 'city_tier'),\n",
       "  Text(7, 0, 'total_programs_enrolled'),\n",
       "  Text(8, 0, 'trainee_engagement_rating')])"
      ]
     },
     "execution_count": 21,
     "metadata": {},
     "output_type": "execute_result"
    },
    {
     "data": {
      "image/png": "[encoded data removed]",
      "text/plain": [
       "<Figure size 432x288 with 1 Axes>"
      ]
     },
     "metadata": {
      "needs_background": "light"
     },
     "output_type": "display_data"
    }
   ],
   "source": [
    "from sklearn.feature_selection import SelectKBest, f_classif # 特征选择库\n",
    "import matplotlib.pyplot as plt # 画出直方图，分析特征的权重\n",
    "\n",
    "predictors = [\"age\",\"program_id\",\"test_type\",\"difficulty_level\",\"education\",\"is_handicapped\",\"city_tier\",\"total_programs_enrolled\",\"trainee_engagement_rating\"]\n",
    "\n",
    "selector = SelectKBest(f_classif, k=5) # f_classif：基于方差分析的检验统计f值，根据k个最高分数选择功能\n",
    "selector.fit(trainee[predictors], trainee[\"is_pass\"])\n",
    "\n",
    "scores = -np.log10(selector.pvalues_)\n",
    "\n",
    "plt.bar(range(len(predictors)), scores)\n",
    "plt.xticks(range(len(predictors)), predictors, rotation='vertical')\n",
    "plt.show()"
   ]
  },
  {
   "cell_type": "code",
   "execution_count": 22,
   "metadata": {},
   "outputs": [
    {
     "name": "stdout",
     "output_type": "stream",
     "text": [
      "随机森林模型的准确率：0.7131039623627888\n"
     ]
    }
   ],
   "source": [
    "from sklearn.ensemble import RandomForestClassifier\n",
    "\n",
    "predictors = [\"program_id\",\"test_type\",\"difficulty_level\",\"education\",\"city_tier\",\"trainee_engagement_rating\"]\n",
    "\n",
    "rfc = RandomForestClassifier()\n",
    "\n",
    "scores = model_selection.cross_val_score(rfc, trainee[predictors], trainee[\"is_pass\"], cv=kf)\n",
    "print(\"随机森林模型的准确率：\" + str(scores.mean()))"
   ]
  },
  {
   "cell_type": "code",
   "execution_count": null,
   "metadata": {},
   "outputs": [],
   "source": []
  }
 ],
 "metadata": {
  "kernelspec": {
   "display_name": "Python 3",
   "language": "python",
   "name": "python3"
  },
  "language_info": {
   "codemirror_mode": {
    "name": "ipython",
    "version": 3
   },
   "file_extension": ".py",
   "mimetype": "text/x-python",
   "name": "python",
   "nbconvert_exporter": "python",
   "pygments_lexer": "ipython3",
   "version": "3.8.5"
  }
 },
 "nbformat": 4,
 "nbformat_minor": 4
}
